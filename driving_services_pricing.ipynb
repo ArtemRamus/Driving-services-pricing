{
  "nbformat": 4,
  "nbformat_minor": 0,
  "metadata": {
    "colab": {
      "provenance": []
    },
    "kernelspec": {
      "name": "python3",
      "display_name": "Python 3"
    },
    "language_info": {
      "name": "python"
    },
    "widgets": {
      "application/vnd.jupyter.widget-state+json": {
        "b4ad85cef7844258a886b43df680c1f5": {
          "model_module": "@jupyter-widgets/controls",
          "model_name": "HBoxModel",
          "model_module_version": "1.5.0",
          "state": {
            "_dom_classes": [],
            "_model_module": "@jupyter-widgets/controls",
            "_model_module_version": "1.5.0",
            "_model_name": "HBoxModel",
            "_view_count": null,
            "_view_module": "@jupyter-widgets/controls",
            "_view_module_version": "1.5.0",
            "_view_name": "HBoxView",
            "box_style": "",
            "children": [
              "IPY_MODEL_6f9966564c794065819bfb5caa969aad",
              "IPY_MODEL_318df3237d074d0d9c25d3bbca5f9a7f",
              "IPY_MODEL_2524fd9d96c34d27bf40cddbec0713f9"
            ],
            "layout": "IPY_MODEL_191aa3b91c304b2cb43267ecb79ca89b"
          }
        },
        "6f9966564c794065819bfb5caa969aad": {
          "model_module": "@jupyter-widgets/controls",
          "model_name": "HTMLModel",
          "model_module_version": "1.5.0",
          "state": {
            "_dom_classes": [],
            "_model_module": "@jupyter-widgets/controls",
            "_model_module_version": "1.5.0",
            "_model_name": "HTMLModel",
            "_view_count": null,
            "_view_module": "@jupyter-widgets/controls",
            "_view_module_version": "1.5.0",
            "_view_name": "HTMLView",
            "description": "",
            "description_tooltip": null,
            "layout": "IPY_MODEL_e975ea3120ed40a889db27b6d41e1530",
            "placeholder": "​",
            "style": "IPY_MODEL_2942a912d6a44c8792be4ab8a3b0fefa",
            "value": "100%"
          }
        },
        "318df3237d074d0d9c25d3bbca5f9a7f": {
          "model_module": "@jupyter-widgets/controls",
          "model_name": "FloatProgressModel",
          "model_module_version": "1.5.0",
          "state": {
            "_dom_classes": [],
            "_model_module": "@jupyter-widgets/controls",
            "_model_module_version": "1.5.0",
            "_model_name": "FloatProgressModel",
            "_view_count": null,
            "_view_module": "@jupyter-widgets/controls",
            "_view_module_version": "1.5.0",
            "_view_name": "ProgressView",
            "bar_style": "success",
            "description": "",
            "description_tooltip": null,
            "layout": "IPY_MODEL_16f89fe6b42c40b6abc43e1bc0130567",
            "max": 16,
            "min": 0,
            "orientation": "horizontal",
            "style": "IPY_MODEL_6db921ce605949c4ab9e7e7c4f748ff2",
            "value": 16
          }
        },
        "2524fd9d96c34d27bf40cddbec0713f9": {
          "model_module": "@jupyter-widgets/controls",
          "model_name": "HTMLModel",
          "model_module_version": "1.5.0",
          "state": {
            "_dom_classes": [],
            "_model_module": "@jupyter-widgets/controls",
            "_model_module_version": "1.5.0",
            "_model_name": "HTMLModel",
            "_view_count": null,
            "_view_module": "@jupyter-widgets/controls",
            "_view_module_version": "1.5.0",
            "_view_name": "HTMLView",
            "description": "",
            "description_tooltip": null,
            "layout": "IPY_MODEL_371e690beee04750a679ebb3a0782ffa",
            "placeholder": "​",
            "style": "IPY_MODEL_c22b058b42ac4ce2a2561a6a43e568c9",
            "value": " 16/16 [04:07&lt;00:00, 15.99s/it]"
          }
        },
        "191aa3b91c304b2cb43267ecb79ca89b": {
          "model_module": "@jupyter-widgets/base",
          "model_name": "LayoutModel",
          "model_module_version": "1.2.0",
          "state": {
            "_model_module": "@jupyter-widgets/base",
            "_model_module_version": "1.2.0",
            "_model_name": "LayoutModel",
            "_view_count": null,
            "_view_module": "@jupyter-widgets/base",
            "_view_module_version": "1.2.0",
            "_view_name": "LayoutView",
            "align_content": null,
            "align_items": null,
            "align_self": null,
            "border": null,
            "bottom": null,
            "display": null,
            "flex": null,
            "flex_flow": null,
            "grid_area": null,
            "grid_auto_columns": null,
            "grid_auto_flow": null,
            "grid_auto_rows": null,
            "grid_column": null,
            "grid_gap": null,
            "grid_row": null,
            "grid_template_areas": null,
            "grid_template_columns": null,
            "grid_template_rows": null,
            "height": null,
            "justify_content": null,
            "justify_items": null,
            "left": null,
            "margin": null,
            "max_height": null,
            "max_width": null,
            "min_height": null,
            "min_width": null,
            "object_fit": null,
            "object_position": null,
            "order": null,
            "overflow": null,
            "overflow_x": null,
            "overflow_y": null,
            "padding": null,
            "right": null,
            "top": null,
            "visibility": null,
            "width": null
          }
        },
        "e975ea3120ed40a889db27b6d41e1530": {
          "model_module": "@jupyter-widgets/base",
          "model_name": "LayoutModel",
          "model_module_version": "1.2.0",
          "state": {
            "_model_module": "@jupyter-widgets/base",
            "_model_module_version": "1.2.0",
            "_model_name": "LayoutModel",
            "_view_count": null,
            "_view_module": "@jupyter-widgets/base",
            "_view_module_version": "1.2.0",
            "_view_name": "LayoutView",
            "align_content": null,
            "align_items": null,
            "align_self": null,
            "border": null,
            "bottom": null,
            "display": null,
            "flex": null,
            "flex_flow": null,
            "grid_area": null,
            "grid_auto_columns": null,
            "grid_auto_flow": null,
            "grid_auto_rows": null,
            "grid_column": null,
            "grid_gap": null,
            "grid_row": null,
            "grid_template_areas": null,
            "grid_template_columns": null,
            "grid_template_rows": null,
            "height": null,
            "justify_content": null,
            "justify_items": null,
            "left": null,
            "margin": null,
            "max_height": null,
            "max_width": null,
            "min_height": null,
            "min_width": null,
            "object_fit": null,
            "object_position": null,
            "order": null,
            "overflow": null,
            "overflow_x": null,
            "overflow_y": null,
            "padding": null,
            "right": null,
            "top": null,
            "visibility": null,
            "width": null
          }
        },
        "2942a912d6a44c8792be4ab8a3b0fefa": {
          "model_module": "@jupyter-widgets/controls",
          "model_name": "DescriptionStyleModel",
          "model_module_version": "1.5.0",
          "state": {
            "_model_module": "@jupyter-widgets/controls",
            "_model_module_version": "1.5.0",
            "_model_name": "DescriptionStyleModel",
            "_view_count": null,
            "_view_module": "@jupyter-widgets/base",
            "_view_module_version": "1.2.0",
            "_view_name": "StyleView",
            "description_width": ""
          }
        },
        "16f89fe6b42c40b6abc43e1bc0130567": {
          "model_module": "@jupyter-widgets/base",
          "model_name": "LayoutModel",
          "model_module_version": "1.2.0",
          "state": {
            "_model_module": "@jupyter-widgets/base",
            "_model_module_version": "1.2.0",
            "_model_name": "LayoutModel",
            "_view_count": null,
            "_view_module": "@jupyter-widgets/base",
            "_view_module_version": "1.2.0",
            "_view_name": "LayoutView",
            "align_content": null,
            "align_items": null,
            "align_self": null,
            "border": null,
            "bottom": null,
            "display": null,
            "flex": null,
            "flex_flow": null,
            "grid_area": null,
            "grid_auto_columns": null,
            "grid_auto_flow": null,
            "grid_auto_rows": null,
            "grid_column": null,
            "grid_gap": null,
            "grid_row": null,
            "grid_template_areas": null,
            "grid_template_columns": null,
            "grid_template_rows": null,
            "height": null,
            "justify_content": null,
            "justify_items": null,
            "left": null,
            "margin": null,
            "max_height": null,
            "max_width": null,
            "min_height": null,
            "min_width": null,
            "object_fit": null,
            "object_position": null,
            "order": null,
            "overflow": null,
            "overflow_x": null,
            "overflow_y": null,
            "padding": null,
            "right": null,
            "top": null,
            "visibility": null,
            "width": null
          }
        },
        "6db921ce605949c4ab9e7e7c4f748ff2": {
          "model_module": "@jupyter-widgets/controls",
          "model_name": "ProgressStyleModel",
          "model_module_version": "1.5.0",
          "state": {
            "_model_module": "@jupyter-widgets/controls",
            "_model_module_version": "1.5.0",
            "_model_name": "ProgressStyleModel",
            "_view_count": null,
            "_view_module": "@jupyter-widgets/base",
            "_view_module_version": "1.2.0",
            "_view_name": "StyleView",
            "bar_color": null,
            "description_width": ""
          }
        },
        "371e690beee04750a679ebb3a0782ffa": {
          "model_module": "@jupyter-widgets/base",
          "model_name": "LayoutModel",
          "model_module_version": "1.2.0",
          "state": {
            "_model_module": "@jupyter-widgets/base",
            "_model_module_version": "1.2.0",
            "_model_name": "LayoutModel",
            "_view_count": null,
            "_view_module": "@jupyter-widgets/base",
            "_view_module_version": "1.2.0",
            "_view_name": "LayoutView",
            "align_content": null,
            "align_items": null,
            "align_self": null,
            "border": null,
            "bottom": null,
            "display": null,
            "flex": null,
            "flex_flow": null,
            "grid_area": null,
            "grid_auto_columns": null,
            "grid_auto_flow": null,
            "grid_auto_rows": null,
            "grid_column": null,
            "grid_gap": null,
            "grid_row": null,
            "grid_template_areas": null,
            "grid_template_columns": null,
            "grid_template_rows": null,
            "height": null,
            "justify_content": null,
            "justify_items": null,
            "left": null,
            "margin": null,
            "max_height": null,
            "max_width": null,
            "min_height": null,
            "min_width": null,
            "object_fit": null,
            "object_position": null,
            "order": null,
            "overflow": null,
            "overflow_x": null,
            "overflow_y": null,
            "padding": null,
            "right": null,
            "top": null,
            "visibility": null,
            "width": null
          }
        },
        "c22b058b42ac4ce2a2561a6a43e568c9": {
          "model_module": "@jupyter-widgets/controls",
          "model_name": "DescriptionStyleModel",
          "model_module_version": "1.5.0",
          "state": {
            "_model_module": "@jupyter-widgets/controls",
            "_model_module_version": "1.5.0",
            "_model_name": "DescriptionStyleModel",
            "_view_count": null,
            "_view_module": "@jupyter-widgets/base",
            "_view_module_version": "1.2.0",
            "_view_name": "StyleView",
            "description_width": ""
          }
        },
        "71a074878456438481eb94262da40f13": {
          "model_module": "@jupyter-widgets/controls",
          "model_name": "HBoxModel",
          "model_module_version": "1.5.0",
          "state": {
            "_dom_classes": [],
            "_model_module": "@jupyter-widgets/controls",
            "_model_module_version": "1.5.0",
            "_model_name": "HBoxModel",
            "_view_count": null,
            "_view_module": "@jupyter-widgets/controls",
            "_view_module_version": "1.5.0",
            "_view_name": "HBoxView",
            "box_style": "",
            "children": [
              "IPY_MODEL_d5c0b007aeaf473ebd75d747ba1f10e2",
              "IPY_MODEL_88f0e89b31c84021acc9dff188d34f47",
              "IPY_MODEL_146eb329302f4d65988a67ccc313859c"
            ],
            "layout": "IPY_MODEL_b1b5ace4d4734835b7d149e905a318dc"
          }
        },
        "d5c0b007aeaf473ebd75d747ba1f10e2": {
          "model_module": "@jupyter-widgets/controls",
          "model_name": "HTMLModel",
          "model_module_version": "1.5.0",
          "state": {
            "_dom_classes": [],
            "_model_module": "@jupyter-widgets/controls",
            "_model_module_version": "1.5.0",
            "_model_name": "HTMLModel",
            "_view_count": null,
            "_view_module": "@jupyter-widgets/controls",
            "_view_module_version": "1.5.0",
            "_view_name": "HTMLView",
            "description": "",
            "description_tooltip": null,
            "layout": "IPY_MODEL_f1be3a4a9dd4444cb761b34a26374d51",
            "placeholder": "​",
            "style": "IPY_MODEL_8088501ff6d749b4bf49c0edc00890e5",
            "value": "100%"
          }
        },
        "88f0e89b31c84021acc9dff188d34f47": {
          "model_module": "@jupyter-widgets/controls",
          "model_name": "FloatProgressModel",
          "model_module_version": "1.5.0",
          "state": {
            "_dom_classes": [],
            "_model_module": "@jupyter-widgets/controls",
            "_model_module_version": "1.5.0",
            "_model_name": "FloatProgressModel",
            "_view_count": null,
            "_view_module": "@jupyter-widgets/controls",
            "_view_module_version": "1.5.0",
            "_view_name": "ProgressView",
            "bar_style": "success",
            "description": "",
            "description_tooltip": null,
            "layout": "IPY_MODEL_40c672cd077e4b97a4ffcfa817193e11",
            "max": 11,
            "min": 0,
            "orientation": "horizontal",
            "style": "IPY_MODEL_1d2e2fa2c88a43afadde061e38391fcf",
            "value": 11
          }
        },
        "146eb329302f4d65988a67ccc313859c": {
          "model_module": "@jupyter-widgets/controls",
          "model_name": "HTMLModel",
          "model_module_version": "1.5.0",
          "state": {
            "_dom_classes": [],
            "_model_module": "@jupyter-widgets/controls",
            "_model_module_version": "1.5.0",
            "_model_name": "HTMLModel",
            "_view_count": null,
            "_view_module": "@jupyter-widgets/controls",
            "_view_module_version": "1.5.0",
            "_view_name": "HTMLView",
            "description": "",
            "description_tooltip": null,
            "layout": "IPY_MODEL_49f4cd69602b42668f31086cd6d56888",
            "placeholder": "​",
            "style": "IPY_MODEL_2f8d99dc47494db7a7ebf3f8c324fcff",
            "value": " 11/11 [11:29&lt;00:00, 63.34s/it]"
          }
        },
        "b1b5ace4d4734835b7d149e905a318dc": {
          "model_module": "@jupyter-widgets/base",
          "model_name": "LayoutModel",
          "model_module_version": "1.2.0",
          "state": {
            "_model_module": "@jupyter-widgets/base",
            "_model_module_version": "1.2.0",
            "_model_name": "LayoutModel",
            "_view_count": null,
            "_view_module": "@jupyter-widgets/base",
            "_view_module_version": "1.2.0",
            "_view_name": "LayoutView",
            "align_content": null,
            "align_items": null,
            "align_self": null,
            "border": null,
            "bottom": null,
            "display": null,
            "flex": null,
            "flex_flow": null,
            "grid_area": null,
            "grid_auto_columns": null,
            "grid_auto_flow": null,
            "grid_auto_rows": null,
            "grid_column": null,
            "grid_gap": null,
            "grid_row": null,
            "grid_template_areas": null,
            "grid_template_columns": null,
            "grid_template_rows": null,
            "height": null,
            "justify_content": null,
            "justify_items": null,
            "left": null,
            "margin": null,
            "max_height": null,
            "max_width": null,
            "min_height": null,
            "min_width": null,
            "object_fit": null,
            "object_position": null,
            "order": null,
            "overflow": null,
            "overflow_x": null,
            "overflow_y": null,
            "padding": null,
            "right": null,
            "top": null,
            "visibility": null,
            "width": null
          }
        },
        "f1be3a4a9dd4444cb761b34a26374d51": {
          "model_module": "@jupyter-widgets/base",
          "model_name": "LayoutModel",
          "model_module_version": "1.2.0",
          "state": {
            "_model_module": "@jupyter-widgets/base",
            "_model_module_version": "1.2.0",
            "_model_name": "LayoutModel",
            "_view_count": null,
            "_view_module": "@jupyter-widgets/base",
            "_view_module_version": "1.2.0",
            "_view_name": "LayoutView",
            "align_content": null,
            "align_items": null,
            "align_self": null,
            "border": null,
            "bottom": null,
            "display": null,
            "flex": null,
            "flex_flow": null,
            "grid_area": null,
            "grid_auto_columns": null,
            "grid_auto_flow": null,
            "grid_auto_rows": null,
            "grid_column": null,
            "grid_gap": null,
            "grid_row": null,
            "grid_template_areas": null,
            "grid_template_columns": null,
            "grid_template_rows": null,
            "height": null,
            "justify_content": null,
            "justify_items": null,
            "left": null,
            "margin": null,
            "max_height": null,
            "max_width": null,
            "min_height": null,
            "min_width": null,
            "object_fit": null,
            "object_position": null,
            "order": null,
            "overflow": null,
            "overflow_x": null,
            "overflow_y": null,
            "padding": null,
            "right": null,
            "top": null,
            "visibility": null,
            "width": null
          }
        },
        "8088501ff6d749b4bf49c0edc00890e5": {
          "model_module": "@jupyter-widgets/controls",
          "model_name": "DescriptionStyleModel",
          "model_module_version": "1.5.0",
          "state": {
            "_model_module": "@jupyter-widgets/controls",
            "_model_module_version": "1.5.0",
            "_model_name": "DescriptionStyleModel",
            "_view_count": null,
            "_view_module": "@jupyter-widgets/base",
            "_view_module_version": "1.2.0",
            "_view_name": "StyleView",
            "description_width": ""
          }
        },
        "40c672cd077e4b97a4ffcfa817193e11": {
          "model_module": "@jupyter-widgets/base",
          "model_name": "LayoutModel",
          "model_module_version": "1.2.0",
          "state": {
            "_model_module": "@jupyter-widgets/base",
            "_model_module_version": "1.2.0",
            "_model_name": "LayoutModel",
            "_view_count": null,
            "_view_module": "@jupyter-widgets/base",
            "_view_module_version": "1.2.0",
            "_view_name": "LayoutView",
            "align_content": null,
            "align_items": null,
            "align_self": null,
            "border": null,
            "bottom": null,
            "display": null,
            "flex": null,
            "flex_flow": null,
            "grid_area": null,
            "grid_auto_columns": null,
            "grid_auto_flow": null,
            "grid_auto_rows": null,
            "grid_column": null,
            "grid_gap": null,
            "grid_row": null,
            "grid_template_areas": null,
            "grid_template_columns": null,
            "grid_template_rows": null,
            "height": null,
            "justify_content": null,
            "justify_items": null,
            "left": null,
            "margin": null,
            "max_height": null,
            "max_width": null,
            "min_height": null,
            "min_width": null,
            "object_fit": null,
            "object_position": null,
            "order": null,
            "overflow": null,
            "overflow_x": null,
            "overflow_y": null,
            "padding": null,
            "right": null,
            "top": null,
            "visibility": null,
            "width": null
          }
        },
        "1d2e2fa2c88a43afadde061e38391fcf": {
          "model_module": "@jupyter-widgets/controls",
          "model_name": "ProgressStyleModel",
          "model_module_version": "1.5.0",
          "state": {
            "_model_module": "@jupyter-widgets/controls",
            "_model_module_version": "1.5.0",
            "_model_name": "ProgressStyleModel",
            "_view_count": null,
            "_view_module": "@jupyter-widgets/base",
            "_view_module_version": "1.2.0",
            "_view_name": "StyleView",
            "bar_color": null,
            "description_width": ""
          }
        },
        "49f4cd69602b42668f31086cd6d56888": {
          "model_module": "@jupyter-widgets/base",
          "model_name": "LayoutModel",
          "model_module_version": "1.2.0",
          "state": {
            "_model_module": "@jupyter-widgets/base",
            "_model_module_version": "1.2.0",
            "_model_name": "LayoutModel",
            "_view_count": null,
            "_view_module": "@jupyter-widgets/base",
            "_view_module_version": "1.2.0",
            "_view_name": "LayoutView",
            "align_content": null,
            "align_items": null,
            "align_self": null,
            "border": null,
            "bottom": null,
            "display": null,
            "flex": null,
            "flex_flow": null,
            "grid_area": null,
            "grid_auto_columns": null,
            "grid_auto_flow": null,
            "grid_auto_rows": null,
            "grid_column": null,
            "grid_gap": null,
            "grid_row": null,
            "grid_template_areas": null,
            "grid_template_columns": null,
            "grid_template_rows": null,
            "height": null,
            "justify_content": null,
            "justify_items": null,
            "left": null,
            "margin": null,
            "max_height": null,
            "max_width": null,
            "min_height": null,
            "min_width": null,
            "object_fit": null,
            "object_position": null,
            "order": null,
            "overflow": null,
            "overflow_x": null,
            "overflow_y": null,
            "padding": null,
            "right": null,
            "top": null,
            "visibility": null,
            "width": null
          }
        },
        "2f8d99dc47494db7a7ebf3f8c324fcff": {
          "model_module": "@jupyter-widgets/controls",
          "model_name": "DescriptionStyleModel",
          "model_module_version": "1.5.0",
          "state": {
            "_model_module": "@jupyter-widgets/controls",
            "_model_module_version": "1.5.0",
            "_model_name": "DescriptionStyleModel",
            "_view_count": null,
            "_view_module": "@jupyter-widgets/base",
            "_view_module_version": "1.2.0",
            "_view_name": "StyleView",
            "description_width": ""
          }
        }
      }
    }
  },
  "cells": [
    {
      "cell_type": "markdown",
      "source": [
        "<h1>Riding services pricing for 12 months</h1>"
      ],
      "metadata": {
        "id": "DLb_70aTqFFA"
      }
    },
    {
      "cell_type": "markdown",
      "source": [
        "<b>Description</b><br>\n",
        "Maximization of a profit from a ride-hailing service is simulated as function of payment to drivers. Drivers work more as price goes up, so the dependency estimated with curve fitting. For each price in the range during 12 months, car pools of totally 10,000 potential riders simulated. Limitation of 1000 pulls per month taken into account. First, average of 30 simulations taken in price range 15-30 to find that optimal price is near 24. Then, 120 simulations per price in range 23-25 with smaller step. Optimal price found to be 24.00 with revenue 11,440."
      ],
      "metadata": {
        "id": "RiAI1sIlq_Qq"
      }
    },
    {
      "cell_type": "code",
      "execution_count": null,
      "metadata": {
        "id": "6L31jCaWGSOc"
      },
      "outputs": [],
      "source": [
        "# import libraries\n",
        "import warnings\n",
        "import numpy as np\n",
        "import pandas as pd\n",
        "from scipy.stats import poisson\n",
        "import matplotlib.pyplot as plt\n",
        "from tqdm.notebook import tqdm"
      ]
    },
    {
      "cell_type": "code",
      "source": [
        "# settings\n",
        "warnings.filterwarnings('ignore')\n",
        "pd.set_option('display.max_rows', None, 'display.max_columns', None)"
      ],
      "metadata": {
        "id": "IsQcVOrt_9r2"
      },
      "execution_count": null,
      "outputs": []
    },
    {
      "cell_type": "code",
      "source": [
        "# load data and drop duplicates\n",
        "df = pd.read_csv('driverAcceptanceData.csv', index_col=0)\n",
        "print(f\"{df.shape[1]} columns, {df.shape[0]} rows\")\n",
        "# checking duplicated rows\n",
        "print(f\"{df.duplicated().sum()} duplicated rows\")\n",
        "print('removing duplicates...')\n",
        "df.drop_duplicates(inplace=True)\n",
        "print(f\"{df.duplicated().sum()} duplicated rows\")\n",
        "df.head()"
      ],
      "metadata": {
        "colab": {
          "base_uri": "https://localhost:8080/",
          "height": 279
        },
        "id": "2dnmxoaFGnio",
        "outputId": "8fafafc6-f523-44f2-e38a-eb61bffc8cb7"
      },
      "execution_count": null,
      "outputs": [
        {
          "output_type": "stream",
          "name": "stdout",
          "text": [
            "2 columns, 1000 rows\n",
            "5 duplicated rows\n",
            "removing duplicates...\n",
            "0 duplicated rows\n"
          ]
        },
        {
          "output_type": "execute_result",
          "data": {
            "text/plain": [
              "         PAY  ACCEPTED\n",
              "0  29.358732         0\n",
              "1  22.986847         0\n",
              "2  18.020348         0\n",
              "3  45.730717         1\n",
              "4  14.642845         0"
            ],
            "text/html": [
              "\n",
              "  <div id=\"df-e76557b9-2dba-44c3-b08c-43088ea396c9\">\n",
              "    <div class=\"colab-df-container\">\n",
              "      <div>\n",
              "<style scoped>\n",
              "    .dataframe tbody tr th:only-of-type {\n",
              "        vertical-align: middle;\n",
              "    }\n",
              "\n",
              "    .dataframe tbody tr th {\n",
              "        vertical-align: top;\n",
              "    }\n",
              "\n",
              "    .dataframe thead th {\n",
              "        text-align: right;\n",
              "    }\n",
              "</style>\n",
              "<table border=\"1\" class=\"dataframe\">\n",
              "  <thead>\n",
              "    <tr style=\"text-align: right;\">\n",
              "      <th></th>\n",
              "      <th>PAY</th>\n",
              "      <th>ACCEPTED</th>\n",
              "    </tr>\n",
              "  </thead>\n",
              "  <tbody>\n",
              "    <tr>\n",
              "      <th>0</th>\n",
              "      <td>29.358732</td>\n",
              "      <td>0</td>\n",
              "    </tr>\n",
              "    <tr>\n",
              "      <th>1</th>\n",
              "      <td>22.986847</td>\n",
              "      <td>0</td>\n",
              "    </tr>\n",
              "    <tr>\n",
              "      <th>2</th>\n",
              "      <td>18.020348</td>\n",
              "      <td>0</td>\n",
              "    </tr>\n",
              "    <tr>\n",
              "      <th>3</th>\n",
              "      <td>45.730717</td>\n",
              "      <td>1</td>\n",
              "    </tr>\n",
              "    <tr>\n",
              "      <th>4</th>\n",
              "      <td>14.642845</td>\n",
              "      <td>0</td>\n",
              "    </tr>\n",
              "  </tbody>\n",
              "</table>\n",
              "</div>\n",
              "      <button class=\"colab-df-convert\" onclick=\"convertToInteractive('df-e76557b9-2dba-44c3-b08c-43088ea396c9')\"\n",
              "              title=\"Convert this dataframe to an interactive table.\"\n",
              "              style=\"display:none;\">\n",
              "        \n",
              "  <svg xmlns=\"http://www.w3.org/2000/svg\" height=\"24px\"viewBox=\"0 0 24 24\"\n",
              "       width=\"24px\">\n",
              "    <path d=\"M0 0h24v24H0V0z\" fill=\"none\"/>\n",
              "    <path d=\"M18.56 5.44l.94 2.06.94-2.06 2.06-.94-2.06-.94-.94-2.06-.94 2.06-2.06.94zm-11 1L8.5 8.5l.94-2.06 2.06-.94-2.06-.94L8.5 2.5l-.94 2.06-2.06.94zm10 10l.94 2.06.94-2.06 2.06-.94-2.06-.94-.94-2.06-.94 2.06-2.06.94z\"/><path d=\"M17.41 7.96l-1.37-1.37c-.4-.4-.92-.59-1.43-.59-.52 0-1.04.2-1.43.59L10.3 9.45l-7.72 7.72c-.78.78-.78 2.05 0 2.83L4 21.41c.39.39.9.59 1.41.59.51 0 1.02-.2 1.41-.59l7.78-7.78 2.81-2.81c.8-.78.8-2.07 0-2.86zM5.41 20L4 18.59l7.72-7.72 1.47 1.35L5.41 20z\"/>\n",
              "  </svg>\n",
              "      </button>\n",
              "      \n",
              "  <style>\n",
              "    .colab-df-container {\n",
              "      display:flex;\n",
              "      flex-wrap:wrap;\n",
              "      gap: 12px;\n",
              "    }\n",
              "\n",
              "    .colab-df-convert {\n",
              "      background-color: #E8F0FE;\n",
              "      border: none;\n",
              "      border-radius: 50%;\n",
              "      cursor: pointer;\n",
              "      display: none;\n",
              "      fill: #1967D2;\n",
              "      height: 32px;\n",
              "      padding: 0 0 0 0;\n",
              "      width: 32px;\n",
              "    }\n",
              "\n",
              "    .colab-df-convert:hover {\n",
              "      background-color: #E2EBFA;\n",
              "      box-shadow: 0px 1px 2px rgba(60, 64, 67, 0.3), 0px 1px 3px 1px rgba(60, 64, 67, 0.15);\n",
              "      fill: #174EA6;\n",
              "    }\n",
              "\n",
              "    [theme=dark] .colab-df-convert {\n",
              "      background-color: #3B4455;\n",
              "      fill: #D2E3FC;\n",
              "    }\n",
              "\n",
              "    [theme=dark] .colab-df-convert:hover {\n",
              "      background-color: #434B5C;\n",
              "      box-shadow: 0px 1px 3px 1px rgba(0, 0, 0, 0.15);\n",
              "      filter: drop-shadow(0px 1px 2px rgba(0, 0, 0, 0.3));\n",
              "      fill: #FFFFFF;\n",
              "    }\n",
              "  </style>\n",
              "\n",
              "      <script>\n",
              "        const buttonEl =\n",
              "          document.querySelector('#df-e76557b9-2dba-44c3-b08c-43088ea396c9 button.colab-df-convert');\n",
              "        buttonEl.style.display =\n",
              "          google.colab.kernel.accessAllowed ? 'block' : 'none';\n",
              "\n",
              "        async function convertToInteractive(key) {\n",
              "          const element = document.querySelector('#df-e76557b9-2dba-44c3-b08c-43088ea396c9');\n",
              "          const dataTable =\n",
              "            await google.colab.kernel.invokeFunction('convertToInteractive',\n",
              "                                                     [key], {});\n",
              "          if (!dataTable) return;\n",
              "\n",
              "          const docLinkHtml = 'Like what you see? Visit the ' +\n",
              "            '<a target=\"_blank\" href=https://colab.research.google.com/notebooks/data_table.ipynb>data table notebook</a>'\n",
              "            + ' to learn more about interactive tables.';\n",
              "          element.innerHTML = '';\n",
              "          dataTable['output_type'] = 'display_data';\n",
              "          await google.colab.output.renderOutput(dataTable, element);\n",
              "          const docLink = document.createElement('div');\n",
              "          docLink.innerHTML = docLinkHtml;\n",
              "          element.appendChild(docLink);\n",
              "        }\n",
              "      </script>\n",
              "    </div>\n",
              "  </div>\n",
              "  "
            ]
          },
          "metadata": {},
          "execution_count": 3
        }
      ]
    },
    {
      "cell_type": "code",
      "source": [
        "# make a list of the variables that contain missing values\n",
        "vars_with_na = [var for var in df.columns if df[var].isnull().sum() > 0]\n",
        "vars_with_na"
      ],
      "metadata": {
        "colab": {
          "base_uri": "https://localhost:8080/"
        },
        "id": "mU_EjGfMIAp5",
        "outputId": "a87f1de1-797a-4186-c102-b9a5015c5273"
      },
      "execution_count": null,
      "outputs": [
        {
          "output_type": "execute_result",
          "data": {
            "text/plain": [
              "[]"
            ]
          },
          "metadata": {},
          "execution_count": 4
        }
      ]
    },
    {
      "cell_type": "code",
      "source": [
        "# sort and index by PAY\n",
        "df.sort_values(by='PAY', ascending=True, inplace=True)\n",
        "df = df.reset_index(drop=True)"
      ],
      "metadata": {
        "id": "N7nfkj-eMepM"
      },
      "execution_count": null,
      "outputs": []
    },
    {
      "cell_type": "code",
      "source": [
        "# calculate cumupative probability of accepting the pay\n",
        "df['CUM_ACCEPTED'] = 0\n",
        "for row in range(len(df)):\n",
        "    df.loc[row, \"CUM_ACCEPTED\"] = np.mean(df.ACCEPTED.values[:row+1])"
      ],
      "metadata": {
        "id": "fcD9lLHCZE_1"
      },
      "execution_count": null,
      "outputs": []
    },
    {
      "cell_type": "code",
      "source": [
        "# plot cumupative probability of accepting the pay\n",
        "plt.plot(df.PAY, df.CUM_ACCEPTED)\n",
        "plt.title(\"Driver cumulative probability to accept the pay\", fontsize=\"16\")\n",
        "plt.xlabel(\"Pay\", fontsize=\"16\")\n",
        "plt.ylabel(\"Probability\", fontsize=\"16\")\n",
        "plt.show()"
      ],
      "metadata": {
        "colab": {
          "base_uri": "https://localhost:8080/",
          "height": 302
        },
        "id": "AtiBsjtiaCK0",
        "outputId": "7b66db73-f7fd-4b09-b001-a9766a884821"
      },
      "execution_count": null,
      "outputs": [
        {
          "output_type": "display_data",
          "data": {
            "text/plain": [
              "<Figure size 432x288 with 1 Axes>"
            ],
            "image/png": "[encoded data removed]"
          },
          "metadata": {
            "needs_background": "light"
          }
        }
      ]
    },
    {
      "cell_type": "code",
      "source": [
        "# cut cumupative probability of accepting the pay\n",
        "# to meaningful and clean values\n",
        "df_pay = df[[\"PAY\", \"CUM_ACCEPTED\"]].copy()\n",
        "df_pay = df_pay[(df_pay.PAY >= 15) & (df_pay.PAY <= 30)]\n",
        "print(*df_pay.shape)"
      ],
      "metadata": {
        "colab": {
          "base_uri": "https://localhost:8080/"
        },
        "id": "JnES1IuMcQqo",
        "outputId": "97d47f80-37ce-44b6-e520-4cd5048e136d"
      },
      "execution_count": null,
      "outputs": [
        {
          "output_type": "stream",
          "name": "stdout",
          "text": [
            "498 2\n"
          ]
        }
      ]
    },
    {
      "cell_type": "code",
      "source": [
        "# plot cumupative probability of accepting the pay\n",
        "plt.plot(df_pay.PAY, df_pay.CUM_ACCEPTED)\n",
        "plt.title(\"Driver cumulative probability to accept the pay\", fontsize=\"16\")\n",
        "plt.xlabel(\"Pay\", fontsize=\"16\")\n",
        "plt.ylabel(\"Probability\", fontsize=\"16\")\n",
        "plt.show()"
      ],
      "metadata": {
        "colab": {
          "base_uri": "https://localhost:8080/",
          "height": 302
        },
        "id": "exA-fEpbmi1S",
        "outputId": "c2a394fe-ef8b-4a8f-d36e-f8a64a23bee9"
      },
      "execution_count": null,
      "outputs": [
        {
          "output_type": "display_data",
          "data": {
            "text/plain": [
              "<Figure size 432x288 with 1 Axes>"
            ],
            "image/png": "[encoded data removed]"
          },
          "metadata": {
            "needs_background": "light"
          }
        }
      ]
    },
    {
      "cell_type": "code",
      "source": [
        "# adjust curves for probability of accepting the pay\n",
        "def adjR(x, y, degree):\n",
        "    coeffs = np.polyfit(x, y, degree)\n",
        "    p = np.poly1d(coeffs)\n",
        "    yhat = p(x)\n",
        "    ybar = np.sum(y)/len(y)\n",
        "    ssreg = np.sum((yhat-ybar)**2)\n",
        "    sstot = np.sum((y - ybar)**2)\n",
        "    return 1- (((1-(ssreg/sstot))*(len(y)-1))/(len(y)-degree-1))\n",
        "\n",
        "for order in range(2, 4):\n",
        "    r2 = adjR(df_pay.PAY, df_pay.CUM_ACCEPTED, order)\n",
        "    print(f\"Odrer {order}, Pearson {r2:.4f}\")"
      ],
      "metadata": {
        "colab": {
          "base_uri": "https://localhost:8080/"
        },
        "id": "t1px7MqPiVha",
        "outputId": "8b6f1878-a664-4979-d813-b8d9e8c4b56a"
      },
      "execution_count": null,
      "outputs": [
        {
          "output_type": "stream",
          "name": "stdout",
          "text": [
            "Odrer 2, Pearson 0.9940\n",
            "Odrer 3, Pearson 0.9956\n"
          ]
        }
      ]
    },
    {
      "cell_type": "code",
      "source": [
        "# plot selected curve for probability of accepting the pay\n",
        "model2 = np.poly1d(np.polyfit(df_pay.PAY, df_pay.CUM_ACCEPTED, 2))\n",
        "polyline = np.linspace(15, 30, 50)\n",
        "plt.figure(figsize=(9, 7))\n",
        "plt.scatter(df_pay.PAY, df_pay.CUM_ACCEPTED)\n",
        "plt.plot(polyline, model2(polyline), '--', color='red')\n",
        "plt.title(\"Driver cumulative probability to accept the pay\", fontsize=\"16\")\n",
        "plt.xlabel(\"Pay\", fontsize=\"16\")\n",
        "plt.ylabel(\"Probability\", fontsize=\"16\")\n",
        "plt.show()"
      ],
      "metadata": {
        "colab": {
          "base_uri": "https://localhost:8080/",
          "height": 465
        },
        "id": "ZC0fCqzmjHSo",
        "outputId": "66c031d1-01e8-450a-aa0e-e8c065c73ecd"
      },
      "execution_count": null,
      "outputs": [
        {
          "output_type": "display_data",
          "data": {
            "text/plain": [
              "<Figure size 648x504 with 1 Axes>"
            ],
            "image/png": "[encoded data removed]"
          },
          "metadata": {
            "needs_background": "light"
          }
        }
      ]
    },
    {
      "cell_type": "code",
      "source": [
        "# print coefficients of the fitted curve\n",
        "print(model2)"
      ],
      "metadata": {
        "colab": {
          "base_uri": "https://localhost:8080/"
        },
        "id": "RxHjf6pWmDeM",
        "outputId": "d59766cc-6e70-4d78-e9ad-1a10c8204e9d"
      },
      "execution_count": null,
      "outputs": [
        {
          "output_type": "stream",
          "name": "stdout",
          "text": [
            "          2\n",
            "0.001095 x - 0.02931 x + 0.2319\n"
          ]
        }
      ]
    },
    {
      "cell_type": "code",
      "source": [
        "# a function for calculation of cumulative\n",
        "# of accepting the payment probability form pay\n",
        "def accept_pay(pay, apps):\n",
        "    proba =  0.001095*pay**2 - 0.02931*pay + 0.2319\n",
        "    return np.sum(np.random.choice([0, 1], size=apps, p=[1-proba, proba]))"
      ],
      "metadata": {
        "id": "sVNx7-Jlmwjz"
      },
      "execution_count": null,
      "outputs": []
    },
    {
      "cell_type": "code",
      "source": [
        "# a function returning ride request probability\n",
        "# based on amount of rides in previous month\n",
        "def rides_per_month(lmbda):\n",
        "    return np.random.poisson(lmbda)"
      ],
      "metadata": {
        "id": "YwLZjac-nMx4"
      },
      "execution_count": null,
      "outputs": []
    },
    {
      "cell_type": "code",
      "source": [
        "# function for monte carlo simulation of the revenue\n",
        "def monte_carlo_revenue(pay, n_monte_carlo=30):\n",
        "\n",
        "    # function to calculate rides\n",
        "    def riders_rides(data):\n",
        "        for idx, val in np.ndenumerate(data):\n",
        "            applications = rides_per_month(val)\n",
        "            data[idx] = accept_pay(pay=pay, apps=applications)   \n",
        "        return data\n",
        "\n",
        "    # function to calculate n_monte_carlo rides mean\n",
        "    def n_rides_mean(riders_stock=10000, pool=1000, contract_len=12):\n",
        "        df_matches = np.ones(pool, dtype='int')\n",
        "        rides = 0\n",
        "\n",
        "        for _ in range(contract_len):\n",
        "            df_matches = riders_rides(df_matches)\n",
        "            riders_stock -= len(df_matches[np.where(df_matches==0)])\n",
        "            if riders_stock < 0:\n",
        "                riders_stock = 0\n",
        "            rides += np.sum(df_matches)\n",
        "            zeros = df_matches[np.where(df_matches==0)].size\n",
        "            # print(_, riders_stock, rides, zeros)\n",
        "            df_matches = np.sort(df_matches)[::-1]\n",
        "            if riders_stock >= zeros:\n",
        "                df_matches[np.where(df_matches==0)] = 1\n",
        "            else:\n",
        "                new_len = pool + riders_stock - zeros\n",
        "                df_matches = df_matches[:new_len]\n",
        "                df_matches[np.where(df_matches==0)] = 1\n",
        "        # print()\n",
        "        return rides\n",
        "\n",
        "\n",
        "    rides_list = [''] * n_monte_carlo\n",
        "    for n in range(n_monte_carlo):\n",
        "        rides_list[n] = n_rides_mean()\n",
        "\n",
        "    margin = 30 - pay\n",
        "    revenue = margin * np.mean(rides_list)\n",
        "    # print(revenue)\n",
        "    return revenue"
      ],
      "metadata": {
        "id": "HrYk41Bl3Iqm"
      },
      "execution_count": null,
      "outputs": []
    },
    {
      "cell_type": "code",
      "source": [
        "# calculate preliminary boundary limit of maximum revenue\n",
        "pays = np.linspace(15, 30, 16).tolist()\n",
        "mc_list = [''] * len(pays)\n",
        "for i, pay in enumerate(tqdm(pays)):\n",
        "    mc_list[i] = monte_carlo_revenue(pay=pay)\n",
        "\n",
        "plt.plot(pays, mc_list)\n",
        "plt.title(\"Operational revenue vs Pay\", fontsize=\"16\")\n",
        "plt.xlabel(\"Revenue\", fontsize=\"16\")\n",
        "plt.ylabel(\"Pay\", fontsize=\"16\")\n",
        "plt.show()"
      ],
      "metadata": {
        "colab": {
          "base_uri": "https://localhost:8080/",
          "height": 334,
          "referenced_widgets": [
            "b4ad85cef7844258a886b43df680c1f5",
            "6f9966564c794065819bfb5caa969aad",
            "318df3237d074d0d9c25d3bbca5f9a7f",
            "2524fd9d96c34d27bf40cddbec0713f9",
            "191aa3b91c304b2cb43267ecb79ca89b",
            "e975ea3120ed40a889db27b6d41e1530",
            "2942a912d6a44c8792be4ab8a3b0fefa",
            "16f89fe6b42c40b6abc43e1bc0130567",
            "6db921ce605949c4ab9e7e7c4f748ff2",
            "371e690beee04750a679ebb3a0782ffa",
            "c22b058b42ac4ce2a2561a6a43e568c9"
          ]
        },
        "id": "tau1Jsvzjvzc",
        "outputId": "d0c9f2ec-8c6d-4a94-eb12-660fefcba869"
      },
      "execution_count": null,
      "outputs": [
        {
          "output_type": "display_data",
          "data": {
            "text/plain": [
              "  0%|          | 0/16 [00:00<?, ?it/s]"
            ],
            "application/vnd.jupyter.widget-view+json": {
              "version_major": 2,
              "version_minor": 0,
              "model_id": "b4ad85cef7844258a886b43df680c1f5"
            }
          },
          "metadata": {}
        },
        {
          "output_type": "display_data",
          "data": {
            "text/plain": [
              "<Figure size 432x288 with 1 Axes>"
            ],
            "image/png": "[encoded data removed]"
          },
          "metadata": {
            "needs_background": "light"
          }
        }
      ]
    },
    {
      "cell_type": "code",
      "source": [
        "# calculate maximum revenue\n",
        "pays = np.linspace(23, 25, 11).tolist()\n",
        "mc_list = [''] * len(pays)\n",
        "for i, pay in enumerate(tqdm(pays)):\n",
        "    mc_list[i] = monte_carlo_revenue(pay=pay, n_monte_carlo=120)\n",
        "\n",
        "max_idx = np.argmax(mc_list)\n",
        "max_pay = pays[max_idx]\n",
        "max_rev = mc_list[max_idx]\n",
        "print(f\"Pay of {max_pay:.2f} gives maximum revenue {max_rev:.2f}\", end='\\n\\n')\n",
        "\n",
        "plt.plot(pays, mc_list)\n",
        "plt.title(\"Operational revenue vs Pay\", fontsize=\"16\")\n",
        "plt.xlabel(\"Revenue\", fontsize=\"16\")\n",
        "plt.ylabel(\"Pay\", fontsize=\"16\")\n",
        "plt.show()"
      ],
      "metadata": {
        "colab": {
          "base_uri": "https://localhost:8080/",
          "height": 370,
          "referenced_widgets": [
            "71a074878456438481eb94262da40f13",
            "d5c0b007aeaf473ebd75d747ba1f10e2",
            "88f0e89b31c84021acc9dff188d34f47",
            "146eb329302f4d65988a67ccc313859c",
            "b1b5ace4d4734835b7d149e905a318dc",
            "f1be3a4a9dd4444cb761b34a26374d51",
            "8088501ff6d749b4bf49c0edc00890e5",
            "40c672cd077e4b97a4ffcfa817193e11",
            "1d2e2fa2c88a43afadde061e38391fcf",
            "49f4cd69602b42668f31086cd6d56888",
            "2f8d99dc47494db7a7ebf3f8c324fcff"
          ]
        },
        "id": "XeMhiguEnroJ",
        "outputId": "323622ad-0ddf-4069-d146-5bb46ffb3a54"
      },
      "execution_count": null,
      "outputs": [
        {
          "output_type": "display_data",
          "data": {
            "text/plain": [
              "  0%|          | 0/11 [00:00<?, ?it/s]"
            ],
            "application/vnd.jupyter.widget-view+json": {
              "version_major": 2,
              "version_minor": 0,
              "model_id": "71a074878456438481eb94262da40f13"
            }
          },
          "metadata": {}
        },
        {
          "output_type": "stream",
          "name": "stdout",
          "text": [
            "Pay of 24.00 gives maximum revenue 11438.40\n",
            "\n"
          ]
        },
        {
          "output_type": "display_data",
          "data": {
            "text/plain": [
              "<Figure size 432x288 with 1 Axes>"
            ],
            "image/png": "[encoded data removed]"
          },
          "metadata": {
            "needs_background": "light"
          }
        }
      ]
    },
    {
      "cell_type": "markdown",
      "source": [
        "END"
      ],
      "metadata": {
        "id": "mYREocNuq1hf"
      }
    }
  ]
}